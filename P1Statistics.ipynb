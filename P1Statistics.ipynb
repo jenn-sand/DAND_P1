{
 "cells": [
  {
   "cell_type": "markdown",
   "metadata": {},
   "source": [
    "# P1: Test a Perpetual Phenomenon"
   ]
  },
  {
   "cell_type": "markdown",
   "metadata": {
    "collapsed": true
   },
   "source": [
    "Independent Variable: whether the colors of the words matches the words, e.g. 'green' is green or blue\n",
    "\n",
    "Dependent Variable: length of time to name ink colors"
   ]
  },
  {
   "cell_type": "markdown",
   "metadata": {},
   "source": [
    "$H_{0}:\\mu=\\mu_{i} $ \n",
    "\n",
    "The null hypothesis, $H_{0}$, is there will be no difference between the time to name the ink colors in the congruent lists and incongruent lists.  Specifically, we hypothesize that the congruent list population mean time $\\mu$, the mean time for the entire population of persons who perform a Stroop task, will be approximately equal to the incongruent list mean time $\\mu_{i}$.\n",
    "\n",
    "$H_{1}:\\mu\\neq\\mu_{i} $ \n",
    "\n",
    "The alternative hypothesis, $H_{1}$, is there will be a difference between the time to name the ink colors in the congruent lists and the incongruent lists.  The congruent list population mean time $\\mu$ is statistically different from the incongruent list population mean time $\\mu_{i}$.\n",
    "\n",
    "These two samples are dependent samples, $n=24$, of a repeated measures design--the same group of persons are taking the congruent test and the incongruent test. Because $n<30$ and the samples are paired, we will perform a two-tailed t-test to determine whether a statistically significant difference in the time to name the ink colors exists.  The t-test assumes that the overall scores are normally distributed.  By using the t distribution to approximate a normal population, we'll be able to use our sample data to approximate the population of persons who perform a Stroop task."
   ]
  },
  {
   "cell_type": "markdown",
   "metadata": {
    "collapsed": true
   },
   "source": [
    "$\\bar{d}=7.96$ On average, there are 7.96 seconds difference between the time to name ink colors in congruent lists and incongruent lists.\n",
    "\n",
    "$S_{d}=4.86$ The standard deviation of the difference between the two sample means is 4.86.  "
   ]
  },
  {
   "cell_type": "code",
   "execution_count": 1,
   "metadata": {
    "collapsed": false,
    "scrolled": false
   },
   "outputs": [
    {
     "data": {
      "text/plain": [
       "<matplotlib.text.Text at 0x94dcb70>"
      ]
     },
     "execution_count": 1,
     "metadata": {},
     "output_type": "execute_result"
    },
    {
     "data": {
      "image/png": "[encoded data removed]",
      "text/plain": [
       "<matplotlib.figure.Figure at 0x9347240>"
      ]
     },
     "metadata": {},
     "output_type": "display_data"
    }
   ],
   "source": [
    "# import all necessary packages and functions.\n",
    "import csv\n",
    "from datetime import datetime\n",
    "import numpy as np\n",
    "import pandas as pd\n",
    "from IPython.display import display\n",
    "%matplotlib inline\n",
    "\n",
    "# file location\n",
    "file_in  = 'stroopdata.csv'\n",
    "\n",
    "perpetual_data = pd.read_csv(file_in)\n",
    "\n",
    "stacked_plot = perpetual_data.plot(kind = 'bar', stacked = True, title=\"Congruent and Incongruent Test Times\")\n",
    "stacked_plot.set_xlabel(\"Participant Number\")\n",
    "stacked_plot.set_ylabel(\"Minutes\")"
   ]
  },
  {
   "cell_type": "markdown",
   "metadata": {},
   "source": [
    "For each participant, there appears to be a longer amount of time spent on the incongruent test than the congruent test.  This is in contrast with our hypothesis that each test will be performed in the same average amount of time."
   ]
  },
  {
   "cell_type": "markdown",
   "metadata": {},
   "source": [
    "$t_{0}=8.02$\n",
    "When we measure the difference between the congruent sample's mean $\\bar{x_{c}}$ and the incongruent sample's mean $\\bar{x_{i}}$, then standardize this difference by dividing by the standard error of the mean, we receive 8.02.  \n",
    "The t-critical value at 23 degrees of freedom for a two-tailed test at 95% confidence is 2.069, well below our $t_{0}$.  The probability for this happening is $P_{0}<0.0001$.  This difference is extremely statistically significant.  We can then reject the null, showing that there is a difference between the time to name the ink colors in the congruent lists and incongruent lists."
   ]
  },
  {
   "cell_type": "markdown",
   "metadata": {},
   "source": [
    "The stroop test is used to measure cognitive flexibility and executive function. An example of another item that exercises these functions is the game Simon Says.  In the rules of Simon Says, one player is chosen to be 'Simon'.  This player shouts out orders, and the other players must quickly follow them *if* the order is prefaced with 'Simon Says'.  Like the stroop test, this requires quick response times in a non-typical if-then-else decision making process."
   ]
  },
  {
   "cell_type": "markdown",
   "metadata": {},
   "source": [
    "### References:\n",
    "Grasmick, H. G. (2005, Fall). Social Statistics. Lecture presented in OK, Norman.\n",
    "\n",
    "Sanders, J. \"Jenn-sand/BayAreaBikeShare.\" GitHub. N.p., 23 Aug. 2016. Web. 23 Aug. 2016.\n",
    "\n",
    "\"ShareLaTeX, the Online LaTeX Editor.\" List of Greek Letters and Math Symbols. N.p., n.d. Web. 23 Aug. 2016.\n",
    "\n",
    "\"Simple Graphing with IPython And Pandas.\" Practical Business Python Atom. N.p., n.d. Web. 23 Aug. 2016.\n",
    "\n",
    "\"Stroop Effect.\" Wikipedia. Wikimedia Foundation, n.d. Web. 23 Aug. 2016."
   ]
  }
 ],
 "metadata": {
  "anaconda-cloud": {},
  "celltoolbar": "Raw Cell Format",
  "kernelspec": {
   "display_name": "Python [Root]",
   "language": "python",
   "name": "Python [Root]"
  },
  "language_info": {
   "codemirror_mode": {
    "name": "ipython",
    "version": 2
   },
   "file_extension": ".py",
   "mimetype": "text/x-python",
   "name": "python",
   "nbconvert_exporter": "python",
   "pygments_lexer": "ipython2",
   "version": "2.7.12"
  }
 },
 "nbformat": 4,
 "nbformat_minor": 0
}
